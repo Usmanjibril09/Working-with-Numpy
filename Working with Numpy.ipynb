{
 "cells": [
  {
   "cell_type": "markdown",
   "metadata": {},
   "source": [
    "# Numeric Manipulations in Python"
   ]
  },
  {
   "cell_type": "code",
   "execution_count": 1,
   "metadata": {},
   "outputs": [],
   "source": [
    "import numpy as np"
   ]
  },
  {
   "cell_type": "code",
   "execution_count": 2,
   "metadata": {},
   "outputs": [],
   "source": [
    "import pandas as pd"
   ]
  },
  {
   "cell_type": "code",
   "execution_count": 4,
   "metadata": {},
   "outputs": [
    {
     "data": {
      "text/plain": [
       "array([[[ 0,  1,  2,  3],\n",
       "        [ 4,  5,  6,  7],\n",
       "        [ 8,  9, 10, 11]],\n",
       "\n",
       "       [[12, 13, 14, 15],\n",
       "        [16, 17, 18, 19],\n",
       "        [20, 21, 22, 23]]])"
      ]
     },
     "execution_count": 4,
     "metadata": {},
     "output_type": "execute_result"
    }
   ],
   "source": [
    "a = np.arange(24).reshape((2,3,4))\n",
    "a"
   ]
  },
  {
   "cell_type": "code",
   "execution_count": 5,
   "metadata": {},
   "outputs": [
    {
     "data": {
      "text/plain": [
       "array([[[ 0,  1,  2,  3],\n",
       "        [ 4,  5,  6,  7],\n",
       "        [ 8,  9, 10, 11]],\n",
       "\n",
       "       [[12, 13, 14, 15],\n",
       "        [16, 17, 18, 19],\n",
       "        [20, 21, 22, 23]],\n",
       "\n",
       "       [[24, 25, 26, 27],\n",
       "        [28, 29, 30, 31],\n",
       "        [32, 33, 34, 35]]])"
      ]
     },
     "execution_count": 5,
     "metadata": {},
     "output_type": "execute_result"
    }
   ],
   "source": [
    "b = np.arange(36).reshape((3,3,4))\n",
    "b"
   ]
  },
  {
   "cell_type": "code",
   "execution_count": 6,
   "metadata": {},
   "outputs": [
    {
     "data": {
      "text/plain": [
       "array([ 0,  1,  2,  3,  4,  5,  6,  7,  8,  9, 10, 11, 12, 13, 14, 15, 16,\n",
       "       17, 18, 19, 20, 21, 22, 23, 24, 25, 26, 27, 28, 29, 30, 31])"
      ]
     },
     "execution_count": 6,
     "metadata": {},
     "output_type": "execute_result"
    }
   ],
   "source": [
    "d=np.arange(32)\n",
    "d"
   ]
  },
  {
   "cell_type": "code",
   "execution_count": 7,
   "metadata": {},
   "outputs": [
    {
     "data": {
      "text/plain": [
       "3"
      ]
     },
     "execution_count": 7,
     "metadata": {},
     "output_type": "execute_result"
    }
   ],
   "source": [
    "a.ndim"
   ]
  },
  {
   "cell_type": "code",
   "execution_count": 8,
   "metadata": {},
   "outputs": [
    {
     "data": {
      "text/plain": [
       "(2, 3, 4)"
      ]
     },
     "execution_count": 8,
     "metadata": {},
     "output_type": "execute_result"
    }
   ],
   "source": [
    "a.shape"
   ]
  },
  {
   "cell_type": "code",
   "execution_count": 9,
   "metadata": {},
   "outputs": [
    {
     "data": {
      "text/plain": [
       "24"
      ]
     },
     "execution_count": 9,
     "metadata": {},
     "output_type": "execute_result"
    }
   ],
   "source": [
    "a.size"
   ]
  },
  {
   "cell_type": "code",
   "execution_count": 10,
   "metadata": {},
   "outputs": [
    {
     "data": {
      "text/plain": [
       "dtype('int32')"
      ]
     },
     "execution_count": 10,
     "metadata": {},
     "output_type": "execute_result"
    }
   ],
   "source": [
    "a.dtype"
   ]
  },
  {
   "cell_type": "code",
   "execution_count": 11,
   "metadata": {},
   "outputs": [
    {
     "data": {
      "text/plain": [
       "4"
      ]
     },
     "execution_count": 11,
     "metadata": {},
     "output_type": "execute_result"
    }
   ],
   "source": [
    "a.itemsize"
   ]
  },
  {
   "cell_type": "code",
   "execution_count": 12,
   "metadata": {},
   "outputs": [
    {
     "data": {
      "text/plain": [
       "numpy.ndarray"
      ]
     },
     "execution_count": 12,
     "metadata": {},
     "output_type": "execute_result"
    }
   ],
   "source": [
    "type(b)"
   ]
  },
  {
   "cell_type": "markdown",
   "metadata": {},
   "source": [
    "Adding and removing elements from numpy arrays"
   ]
  },
  {
   "cell_type": "code",
   "execution_count": 13,
   "metadata": {},
   "outputs": [
    {
     "data": {
      "text/plain": [
       "array([ 0,  1,  2,  3,  4,  5,  6,  7,  8,  9, 10, 11, 12, 13, 14, 15, 16,\n",
       "       17, 18, 19, 20, 21, 22, 23,  5,  6,  7,  8])"
      ]
     },
     "execution_count": 13,
     "metadata": {},
     "output_type": "execute_result"
    }
   ],
   "source": [
    "b=np.append(a, [5,6,7,8]) #append means add...\n",
    "b"
   ]
  },
  {
   "cell_type": "code",
   "execution_count": 14,
   "metadata": {},
   "outputs": [
    {
     "data": {
      "text/plain": [
       "(28,)"
      ]
     },
     "execution_count": 14,
     "metadata": {},
     "output_type": "execute_result"
    }
   ],
   "source": [
    "b.shape"
   ]
  },
  {
   "cell_type": "code",
   "execution_count": 15,
   "metadata": {},
   "outputs": [
    {
     "data": {
      "text/plain": [
       "array([[ 0,  1,  2,  3],\n",
       "       [ 4,  5,  6,  7],\n",
       "       [ 8,  9, 10, 11],\n",
       "       [12, 13, 14, 15],\n",
       "       [16, 17, 18, 19],\n",
       "       [20, 21, 22, 23],\n",
       "       [ 5,  6,  7,  8]])"
      ]
     },
     "execution_count": 15,
     "metadata": {},
     "output_type": "execute_result"
    }
   ],
   "source": [
    "b.reshape((7,4))"
   ]
  },
  {
   "cell_type": "code",
   "execution_count": 16,
   "metadata": {},
   "outputs": [
    {
     "data": {
      "text/plain": [
       "array([[[ 0,  1,  2,  3],\n",
       "        [ 4,  5,  6,  7],\n",
       "        [ 8,  9, 10, 11]],\n",
       "\n",
       "       [[12, 13, 14, 15],\n",
       "        [16, 17, 18, 19],\n",
       "        [20, 21, 22, 23]]])"
      ]
     },
     "execution_count": 16,
     "metadata": {},
     "output_type": "execute_result"
    }
   ],
   "source": [
    "a"
   ]
  },
  {
   "cell_type": "code",
   "execution_count": 18,
   "metadata": {},
   "outputs": [
    {
     "data": {
      "text/plain": [
       "array([[[  3,  13,  23,  33],\n",
       "        [ 43,  53,  63,  73],\n",
       "        [ 83,  93, 103, 113]],\n",
       "\n",
       "       [[123, 133, 143, 153],\n",
       "        [163, 173, 183, 193],\n",
       "        [203, 213, 223, 233]]])"
      ]
     },
     "execution_count": 18,
     "metadata": {},
     "output_type": "execute_result"
    }
   ],
   "source": [
    "c = np.array(np.arange(24)).reshape(2,3,4) * 10 + 3\n",
    "c"
   ]
  },
  {
   "cell_type": "code",
   "execution_count": 19,
   "metadata": {},
   "outputs": [
    {
     "data": {
      "text/plain": [
       "array([[[  0,   1,   2,   3],\n",
       "        [  4,   5,   6,   7],\n",
       "        [  8,   9,  10,  11]],\n",
       "\n",
       "       [[ 12,  13,  14,  15],\n",
       "        [ 16,  17,  18,  19],\n",
       "        [ 20,  21,  22,  23]],\n",
       "\n",
       "       [[  3,  13,  23,  33],\n",
       "        [ 43,  53,  63,  73],\n",
       "        [ 83,  93, 103, 113]],\n",
       "\n",
       "       [[123, 133, 143, 153],\n",
       "        [163, 173, 183, 193],\n",
       "        [203, 213, 223, 233]]])"
      ]
     },
     "execution_count": 19,
     "metadata": {},
     "output_type": "execute_result"
    }
   ],
   "source": [
    "np.append(a,c, axis=0) #joining along the column but when axis is 1 then it joins along the rows"
   ]
  },
  {
   "cell_type": "code",
   "execution_count": 22,
   "metadata": {},
   "outputs": [
    {
     "data": {
      "text/plain": [
       "array([[[  0,   1,   2,   3],\n",
       "        [  4,   5,   6,   7],\n",
       "        [  8,   9,  10,  11],\n",
       "        [  3,  13,  23,  33],\n",
       "        [ 43,  53,  63,  73],\n",
       "        [ 83,  93, 103, 113]],\n",
       "\n",
       "       [[ 12,  13,  14,  15],\n",
       "        [ 16,  17,  18,  19],\n",
       "        [ 20,  21,  22,  23],\n",
       "        [123, 133, 143, 153],\n",
       "        [163, 173, 183, 193],\n",
       "        [203, 213, 223, 233]]])"
      ]
     },
     "execution_count": 22,
     "metadata": {},
     "output_type": "execute_result"
    }
   ],
   "source": [
    "d=np.append(a,c, axis=1)\n",
    "d"
   ]
  },
  {
   "cell_type": "code",
   "execution_count": 28,
   "metadata": {},
   "outputs": [
    {
     "data": {
      "text/plain": [
       "(2, 6, 4)"
      ]
     },
     "execution_count": 28,
     "metadata": {},
     "output_type": "execute_result"
    }
   ],
   "source": [
    "d=np.append(a,c, axis=1).shape\n",
    "d"
   ]
  },
  {
   "cell_type": "code",
   "execution_count": 25,
   "metadata": {},
   "outputs": [
    {
     "data": {
      "text/plain": [
       "array([[[  0,   1,   2,   3,   3,  13,  23,  33],\n",
       "        [  4,   5,   6,   7,  43,  53,  63,  73],\n",
       "        [  8,   9,  10,  11,  83,  93, 103, 113]],\n",
       "\n",
       "       [[ 12,  13,  14,  15, 123, 133, 143, 153],\n",
       "        [ 16,  17,  18,  19, 163, 173, 183, 193],\n",
       "        [ 20,  21,  22,  23, 203, 213, 223, 233]]])"
      ]
     },
     "execution_count": 25,
     "metadata": {},
     "output_type": "execute_result"
    }
   ],
   "source": [
    "e=np.append(a,c, axis=2)\n",
    "e"
   ]
  },
  {
   "cell_type": "code",
   "execution_count": 27,
   "metadata": {},
   "outputs": [
    {
     "data": {
      "text/plain": [
       "(2, 3, 8)"
      ]
     },
     "execution_count": 27,
     "metadata": {},
     "output_type": "execute_result"
    }
   ],
   "source": [
    "e=np.append(a,c, axis=2).shape\n",
    "e"
   ]
  },
  {
   "cell_type": "code",
   "execution_count": 29,
   "metadata": {},
   "outputs": [
    {
     "data": {
      "text/plain": [
       "array([[[  0,   1,   2,   3],\n",
       "        [  4,   5,   6,   7],\n",
       "        [  8,   9,  10,  11],\n",
       "        [  3,  13,  23,  33],\n",
       "        [ 43,  53,  63,  73],\n",
       "        [ 83,  93, 103, 113]],\n",
       "\n",
       "       [[ 12,  13,  14,  15],\n",
       "        [ 16,  17,  18,  19],\n",
       "        [ 20,  21,  22,  23],\n",
       "        [123, 133, 143, 153],\n",
       "        [163, 173, 183, 193],\n",
       "        [203, 213, 223, 233]]])"
      ]
     },
     "execution_count": 29,
     "metadata": {},
     "output_type": "execute_result"
    }
   ],
   "source": [
    "my_num = np.hstack((a,c)) #my num \n",
    "my_num"
   ]
  },
  {
   "cell_type": "code",
   "execution_count": 31,
   "metadata": {},
   "outputs": [
    {
     "data": {
      "text/plain": [
       "array([[[  0,   1, 999,   3],\n",
       "        [  4,   5,   6,   7],\n",
       "        [  8,   9,  10,  11],\n",
       "        [  3,  13,  23,  33],\n",
       "        [ 43,  53,  63,  73],\n",
       "        [ 83,  93, 103, 113]],\n",
       "\n",
       "       [[ 12,  13,  14,  15],\n",
       "        [ 16,  17,  18,  19],\n",
       "        [ 20,  21,  22,  23],\n",
       "        [123, 133, 143, 153],\n",
       "        [163, 173, 183, 193],\n",
       "        [203, 213, 223, 233]]])"
      ]
     },
     "execution_count": 31,
     "metadata": {},
     "output_type": "execute_result"
    }
   ],
   "source": [
    "my_num[0,0,2] = 999 #starting from 0, 0 axis from the first row, then 2 means to replace the 2 with 999\n",
    "my_num"
   ]
  },
  {
   "cell_type": "code",
   "execution_count": 32,
   "metadata": {},
   "outputs": [
    {
     "data": {
      "text/plain": [
       "array([[[  0,   1, 999,   3],\n",
       "        [  4,   5,   6,   7],\n",
       "        [  8,   9,  10,  11],\n",
       "        [  3,  13,  23,  33],\n",
       "        [ 43,  53,  63,  73],\n",
       "        [ 83,  93, 103, 113]],\n",
       "\n",
       "       [[ 12,  13,  14,  15],\n",
       "        [ 16,  17,  18,  19],\n",
       "        [ 20,  21,  22, 100],\n",
       "        [123, 133, 143, 153],\n",
       "        [163, 173, 183, 193],\n",
       "        [203, 213, 223, 233]]])"
      ]
     },
     "execution_count": 32,
     "metadata": {},
     "output_type": "execute_result"
    }
   ],
   "source": [
    "my_num[1,2,3]=100 #1 means the second matrix, 2 means the second row countinf from 0, and 3 means the 3rd column countinf from 0\n",
    "my_num"
   ]
  },
  {
   "cell_type": "code",
   "execution_count": 33,
   "metadata": {},
   "outputs": [
    {
     "data": {
      "text/plain": [
       "array([[[  0,   1, 999,   3],\n",
       "        [  4,   5,   6,   7],\n",
       "        [  8,   9,  10,  11],\n",
       "        [  3,  13,  23,  33],\n",
       "        [ 43,  53,  63,  73],\n",
       "        [ 83,  93, 103, 113]],\n",
       "\n",
       "       [[ 12,  13,  14,  15],\n",
       "        [ 16,  17,  18,  19],\n",
       "        [ 20,  21,  22, 100],\n",
       "        [123,   0, 143, 153],\n",
       "        [163, 173, 183, 193],\n",
       "        [203, 213, 223, 233]]])"
      ]
     },
     "execution_count": 33,
     "metadata": {},
     "output_type": "execute_result"
    }
   ],
   "source": [
    "my_num[1,3,1]=0 #means changing 113 to 0\n",
    "my_num"
   ]
  },
  {
   "cell_type": "code",
   "execution_count": 34,
   "metadata": {},
   "outputs": [
    {
     "data": {
      "text/plain": [
       "array([[[ 0,  1,  2,  3],\n",
       "        [ 4,  5,  6,  7],\n",
       "        [ 8,  9, 10, 11]],\n",
       "\n",
       "       [[12, 13, 14, 15],\n",
       "        [16, 17, 18, 19],\n",
       "        [20, 21, 22, 23]]])"
      ]
     },
     "execution_count": 34,
     "metadata": {},
     "output_type": "execute_result"
    }
   ],
   "source": [
    "a"
   ]
  },
  {
   "cell_type": "code",
   "execution_count": 35,
   "metadata": {},
   "outputs": [
    {
     "data": {
      "text/plain": [
       "array([[[  3,  13,  23,  33],\n",
       "        [ 43,  53,  63,  73],\n",
       "        [ 83,  93, 103, 113]],\n",
       "\n",
       "       [[123, 133, 143, 153],\n",
       "        [163, 173, 183, 193],\n",
       "        [203, 213, 223, 233]]])"
      ]
     },
     "execution_count": 35,
     "metadata": {},
     "output_type": "execute_result"
    }
   ],
   "source": [
    "c"
   ]
  },
  {
   "cell_type": "code",
   "execution_count": 36,
   "metadata": {},
   "outputs": [
    {
     "data": {
      "text/plain": [
       "array([[[  3,  13,  23,  33],\n",
       "        [ 43,  53,  63,  73],\n",
       "        [ 83,  93, 103, 113]],\n",
       "\n",
       "       [[144, 144, 144, 144],\n",
       "        [144, 144, 144, 144],\n",
       "        [144, 144, 144, 144]],\n",
       "\n",
       "       [[123, 133, 143, 153],\n",
       "        [163, 173, 183, 193],\n",
       "        [203, 213, 223, 233]]])"
      ]
     },
     "execution_count": 36,
     "metadata": {},
     "output_type": "execute_result"
    }
   ],
   "source": [
    "after_insert_array = np.insert (c, 1, 144, axis=0) #create another matrix filled with 114\n",
    "after_insert_array"
   ]
  },
  {
   "cell_type": "code",
   "execution_count": 37,
   "metadata": {},
   "outputs": [
    {
     "data": {
      "text/plain": [
       "array([[[  3,  13,  23,  33],\n",
       "        [144, 144, 144, 144],\n",
       "        [ 43,  53,  63,  73],\n",
       "        [ 83,  93, 103, 113]],\n",
       "\n",
       "       [[123, 133, 143, 153],\n",
       "        [144, 144, 144, 144],\n",
       "        [163, 173, 183, 193],\n",
       "        [203, 213, 223, 233]]])"
      ]
     },
     "execution_count": 37,
     "metadata": {},
     "output_type": "execute_result"
    }
   ],
   "source": [
    "after_insert_array = np.insert (c, 1, 144, axis=1)\n",
    "after_insert_array"
   ]
  },
  {
   "cell_type": "code",
   "execution_count": 38,
   "metadata": {},
   "outputs": [
    {
     "data": {
      "text/plain": [
       "array([[[  3, 444,  13,  23,  33],\n",
       "        [ 43, 444,  53,  63,  73],\n",
       "        [ 83, 444,  93, 103, 113]],\n",
       "\n",
       "       [[123, 444, 133, 143, 153],\n",
       "        [163, 444, 173, 183, 193],\n",
       "        [203, 444, 213, 223, 233]]])"
      ]
     },
     "execution_count": 38,
     "metadata": {},
     "output_type": "execute_result"
    }
   ],
   "source": [
    "np.insert (c, 1, 444, axis=2)"
   ]
  },
  {
   "cell_type": "code",
   "execution_count": 40,
   "metadata": {},
   "outputs": [
    {
     "data": {
      "text/plain": [
       "array([[[6.23042070e-307, 4.67296746e-307, 1.69121096e-306,\n",
       "         9.34609111e-307],\n",
       "        [1.33508845e-306, 1.33511969e-306, 6.23037996e-307,\n",
       "         6.23053954e-307],\n",
       "        [9.34609790e-307, 8.45593934e-307, 9.34600963e-307,\n",
       "         1.42418987e-306]],\n",
       "\n",
       "       [[8.90100844e-307, 1.69121367e-306, 8.90100844e-307,\n",
       "         1.69121367e-306],\n",
       "        [8.90100844e-307, 6.89812281e-307, 9.34604358e-307,\n",
       "         1.37961709e-306],\n",
       "        [1.33511969e-306, 1.33511562e-306, 1.42410974e-306,\n",
       "         2.56761491e-312]]])"
      ]
     },
     "execution_count": 40,
     "metadata": {},
     "output_type": "execute_result"
    }
   ],
   "source": [
    "d=np.empty(c.shape)\n",
    "d"
   ]
  },
  {
   "cell_type": "code",
   "execution_count": 41,
   "metadata": {},
   "outputs": [
    {
     "data": {
      "text/plain": [
       "array([[[  3.,  13.,  23.,  33.],\n",
       "        [ 43.,  53.,  63.,  73.],\n",
       "        [ 83.,  93., 103., 113.]],\n",
       "\n",
       "       [[123., 133., 143., 153.],\n",
       "        [163., 173., 183., 193.],\n",
       "        [203., 213., 223., 233.]]])"
      ]
     },
     "execution_count": 41,
     "metadata": {},
     "output_type": "execute_result"
    }
   ],
   "source": [
    "np.copyto(d, c)\n",
    "d"
   ]
  },
  {
   "cell_type": "code",
   "execution_count": 42,
   "metadata": {},
   "outputs": [
    {
     "data": {
      "text/plain": [
       "array([[[  3.,  13.,  23.,  33.],\n",
       "        [ 43.,  53.,  63.,  73.],\n",
       "        [ 83.,  93., 103., 113.]]])"
      ]
     },
     "execution_count": 42,
     "metadata": {},
     "output_type": "execute_result"
    }
   ],
   "source": [
    "np.delete(d, 1, axis=0) #deleting the whole second array or matrix"
   ]
  },
  {
   "cell_type": "code",
   "execution_count": 43,
   "metadata": {},
   "outputs": [
    {
     "data": {
      "text/plain": [
       "array([[[  3.,  13.,  23.,  33.],\n",
       "        [ 83.,  93., 103., 113.]],\n",
       "\n",
       "       [[123., 133., 143., 153.],\n",
       "        [203., 213., 223., 233.]]])"
      ]
     },
     "execution_count": 43,
     "metadata": {},
     "output_type": "execute_result"
    }
   ],
   "source": [
    "np.delete(d, 1, axis=1) #deleting the 2nd row of each array from 0."
   ]
  },
  {
   "cell_type": "code",
   "execution_count": 44,
   "metadata": {},
   "outputs": [
    {
     "data": {
      "text/plain": [
       "array([[[  3.,  23.,  33.],\n",
       "        [ 43.,  63.,  73.],\n",
       "        [ 83., 103., 113.]],\n",
       "\n",
       "       [[123., 143., 153.],\n",
       "        [163., 183., 193.],\n",
       "        [203., 223., 233.]]])"
      ]
     },
     "execution_count": 44,
     "metadata": {},
     "output_type": "execute_result"
    }
   ],
   "source": [
    "np.delete(d, 1, axis=2) #deleting the second column from 0"
   ]
  },
  {
   "cell_type": "code",
   "execution_count": null,
   "metadata": {},
   "outputs": [],
   "source": [
    "# a = np.array([[1, 2], [3, 4]])\n",
    "#joining and splitting arrays, concactenate stack split\n",
    "b = np.array([[5, 6]])\n",
    "a"
   ]
  },
  {
   "cell_type": "code",
   "execution_count": 9,
   "metadata": {},
   "outputs": [
    {
     "data": {
      "text/plain": [
       "array([[1, 2],\n",
       "       [3, 4],\n",
       "       [5, 6]])"
      ]
     },
     "execution_count": 9,
     "metadata": {},
     "output_type": "execute_result"
    }
   ],
   "source": [
    "together = np.concatenate((a, b), axis=0)\n",
    "together"
   ]
  },
  {
   "cell_type": "code",
   "execution_count": 10,
   "metadata": {},
   "outputs": [
    {
     "data": {
      "text/plain": [
       "(3, 2)"
      ]
     },
     "execution_count": 10,
     "metadata": {},
     "output_type": "execute_result"
    }
   ],
   "source": [
    "together.shape"
   ]
  },
  {
   "cell_type": "code",
   "execution_count": 11,
   "metadata": {},
   "outputs": [
    {
     "data": {
      "text/plain": [
       "array([[  1,   2],\n",
       "       [  3, 555],\n",
       "       [  5,   6]])"
      ]
     },
     "execution_count": 11,
     "metadata": {},
     "output_type": "execute_result"
    }
   ],
   "source": [
    "together[1,1] = 555\n",
    "together"
   ]
  },
  {
   "cell_type": "code",
   "execution_count": 12,
   "metadata": {},
   "outputs": [
    {
     "data": {
      "text/plain": [
       "array([[ 8, 11],\n",
       "       [14, 17]])"
      ]
     },
     "execution_count": 12,
     "metadata": {},
     "output_type": "execute_result"
    }
   ],
   "source": [
    "c = np.array([[1, 2], [3, 4]]) *3 + 5\n",
    "c"
   ]
  },
  {
   "cell_type": "code",
   "execution_count": 13,
   "metadata": {},
   "outputs": [
    {
     "data": {
      "text/plain": [
       "array([[ 1,  2,  8, 11],\n",
       "       [ 3,  4, 14, 17]])"
      ]
     },
     "execution_count": 13,
     "metadata": {},
     "output_type": "execute_result"
    }
   ],
   "source": [
    "np.concatenate((a, c), axis=1)"
   ]
  },
  {
   "cell_type": "code",
   "execution_count": 14,
   "metadata": {},
   "outputs": [
    {
     "data": {
      "text/plain": [
       "array([[[-7.41717753e-02,  1.13566449e+00, -9.92624359e-01,\n",
       "         -2.72466844e+00],\n",
       "        [-1.57893494e-02,  1.45260799e+00,  7.79552785e-01,\n",
       "          1.41615738e+00],\n",
       "        [ 5.32296462e-01, -1.40467862e+00,  8.91119856e-01,\n",
       "         -5.59488696e-01]],\n",
       "\n",
       "       [[-9.75291231e-01,  5.02970835e-01, -5.08161258e-01,\n",
       "         -2.75132301e-01],\n",
       "        [ 1.24887474e+00,  1.03650681e-01, -2.78094671e-01,\n",
       "         -1.33517545e+00],\n",
       "        [ 2.62788418e+00,  1.96624459e+00,  1.23835755e+00,\n",
       "         -2.67774833e+00]],\n",
       "\n",
       "       [[-2.61156260e-01, -1.63956818e+00,  1.77393224e-02,\n",
       "         -1.87237063e-01],\n",
       "        [-2.09107871e-01, -2.65544818e-04, -2.98837792e-01,\n",
       "         -1.94143909e-01],\n",
       "        [-6.25622079e-01, -1.01768208e+00,  7.11864125e-01,\n",
       "          2.66168084e-01]],\n",
       "\n",
       "       [[ 2.23561306e+00, -1.15962529e-01, -6.33261712e-01,\n",
       "         -5.27362753e-01],\n",
       "        [ 5.27681498e-02, -1.54290529e-02,  3.81287426e-01,\n",
       "          1.17751192e+00],\n",
       "        [-1.05242473e+00, -8.61717639e-01, -6.38507855e-01,\n",
       "          9.28006537e-01]],\n",
       "\n",
       "       [[-1.27545207e+00,  7.33045898e-01,  5.02557571e-01,\n",
       "          2.10481976e+00],\n",
       "        [ 1.39311519e+00,  4.22331292e-02,  3.23254575e-01,\n",
       "          1.30242047e+00],\n",
       "        [ 2.16786955e-01, -1.74204458e-01,  2.27095826e-01,\n",
       "          8.04564563e-01]]])"
      ]
     },
     "execution_count": 14,
     "metadata": {},
     "output_type": "execute_result"
    }
   ],
   "source": [
    "arrays = np.zeros((5,3,4))\n",
    "for n in range(5):\n",
    "    arrays[n] = np.random.randn(3, 4)\n",
    "    \n",
    "arrays    "
   ]
  },
  {
   "cell_type": "code",
   "execution_count": 15,
   "metadata": {},
   "outputs": [],
   "source": [
    "stack0 = np.stack(arrays, axis=0)\n",
    "stack1 = np.stack(arrays, axis=1)\n",
    "stack2 = np.stack(arrays, axis=2)"
   ]
  },
  {
   "cell_type": "code",
   "execution_count": 16,
   "metadata": {},
   "outputs": [
    {
     "data": {
      "text/plain": [
       "array([[[-7.41717753e-02,  1.13566449e+00, -9.92624359e-01,\n",
       "         -2.72466844e+00],\n",
       "        [-1.57893494e-02,  1.45260799e+00,  7.79552785e-01,\n",
       "          1.41615738e+00],\n",
       "        [ 5.32296462e-01, -1.40467862e+00,  8.91119856e-01,\n",
       "         -5.59488696e-01]],\n",
       "\n",
       "       [[-9.75291231e-01,  5.02970835e-01, -5.08161258e-01,\n",
       "         -2.75132301e-01],\n",
       "        [ 1.24887474e+00,  1.03650681e-01, -2.78094671e-01,\n",
       "         -1.33517545e+00],\n",
       "        [ 2.62788418e+00,  1.96624459e+00,  1.23835755e+00,\n",
       "         -2.67774833e+00]],\n",
       "\n",
       "       [[-2.61156260e-01, -1.63956818e+00,  1.77393224e-02,\n",
       "         -1.87237063e-01],\n",
       "        [-2.09107871e-01, -2.65544818e-04, -2.98837792e-01,\n",
       "         -1.94143909e-01],\n",
       "        [-6.25622079e-01, -1.01768208e+00,  7.11864125e-01,\n",
       "          2.66168084e-01]],\n",
       "\n",
       "       [[ 2.23561306e+00, -1.15962529e-01, -6.33261712e-01,\n",
       "         -5.27362753e-01],\n",
       "        [ 5.27681498e-02, -1.54290529e-02,  3.81287426e-01,\n",
       "          1.17751192e+00],\n",
       "        [-1.05242473e+00, -8.61717639e-01, -6.38507855e-01,\n",
       "          9.28006537e-01]],\n",
       "\n",
       "       [[-1.27545207e+00,  7.33045898e-01,  5.02557571e-01,\n",
       "          2.10481976e+00],\n",
       "        [ 1.39311519e+00,  4.22331292e-02,  3.23254575e-01,\n",
       "          1.30242047e+00],\n",
       "        [ 2.16786955e-01, -1.74204458e-01,  2.27095826e-01,\n",
       "          8.04564563e-01]]])"
      ]
     },
     "execution_count": 16,
     "metadata": {},
     "output_type": "execute_result"
    }
   ],
   "source": [
    "stack0"
   ]
  },
  {
   "cell_type": "code",
   "execution_count": 17,
   "metadata": {},
   "outputs": [
    {
     "data": {
      "text/plain": [
       "array([[[-7.41717753e-02,  1.13566449e+00, -9.92624359e-01,\n",
       "         -2.72466844e+00],\n",
       "        [-9.75291231e-01,  5.02970835e-01, -5.08161258e-01,\n",
       "         -2.75132301e-01],\n",
       "        [-2.61156260e-01, -1.63956818e+00,  1.77393224e-02,\n",
       "         -1.87237063e-01],\n",
       "        [ 2.23561306e+00, -1.15962529e-01, -6.33261712e-01,\n",
       "         -5.27362753e-01],\n",
       "        [-1.27545207e+00,  7.33045898e-01,  5.02557571e-01,\n",
       "          2.10481976e+00]],\n",
       "\n",
       "       [[-1.57893494e-02,  1.45260799e+00,  7.79552785e-01,\n",
       "          1.41615738e+00],\n",
       "        [ 1.24887474e+00,  1.03650681e-01, -2.78094671e-01,\n",
       "         -1.33517545e+00],\n",
       "        [-2.09107871e-01, -2.65544818e-04, -2.98837792e-01,\n",
       "         -1.94143909e-01],\n",
       "        [ 5.27681498e-02, -1.54290529e-02,  3.81287426e-01,\n",
       "          1.17751192e+00],\n",
       "        [ 1.39311519e+00,  4.22331292e-02,  3.23254575e-01,\n",
       "          1.30242047e+00]],\n",
       "\n",
       "       [[ 5.32296462e-01, -1.40467862e+00,  8.91119856e-01,\n",
       "         -5.59488696e-01],\n",
       "        [ 2.62788418e+00,  1.96624459e+00,  1.23835755e+00,\n",
       "         -2.67774833e+00],\n",
       "        [-6.25622079e-01, -1.01768208e+00,  7.11864125e-01,\n",
       "          2.66168084e-01],\n",
       "        [-1.05242473e+00, -8.61717639e-01, -6.38507855e-01,\n",
       "          9.28006537e-01],\n",
       "        [ 2.16786955e-01, -1.74204458e-01,  2.27095826e-01,\n",
       "          8.04564563e-01]]])"
      ]
     },
     "execution_count": 17,
     "metadata": {},
     "output_type": "execute_result"
    }
   ],
   "source": [
    "stack1"
   ]
  },
  {
   "cell_type": "code",
   "execution_count": 18,
   "metadata": {},
   "outputs": [
    {
     "data": {
      "text/plain": [
       "array([[[-7.41717753e-02, -9.75291231e-01, -2.61156260e-01,\n",
       "          2.23561306e+00, -1.27545207e+00],\n",
       "        [ 1.13566449e+00,  5.02970835e-01, -1.63956818e+00,\n",
       "         -1.15962529e-01,  7.33045898e-01],\n",
       "        [-9.92624359e-01, -5.08161258e-01,  1.77393224e-02,\n",
       "         -6.33261712e-01,  5.02557571e-01],\n",
       "        [-2.72466844e+00, -2.75132301e-01, -1.87237063e-01,\n",
       "         -5.27362753e-01,  2.10481976e+00]],\n",
       "\n",
       "       [[-1.57893494e-02,  1.24887474e+00, -2.09107871e-01,\n",
       "          5.27681498e-02,  1.39311519e+00],\n",
       "        [ 1.45260799e+00,  1.03650681e-01, -2.65544818e-04,\n",
       "         -1.54290529e-02,  4.22331292e-02],\n",
       "        [ 7.79552785e-01, -2.78094671e-01, -2.98837792e-01,\n",
       "          3.81287426e-01,  3.23254575e-01],\n",
       "        [ 1.41615738e+00, -1.33517545e+00, -1.94143909e-01,\n",
       "          1.17751192e+00,  1.30242047e+00]],\n",
       "\n",
       "       [[ 5.32296462e-01,  2.62788418e+00, -6.25622079e-01,\n",
       "         -1.05242473e+00,  2.16786955e-01],\n",
       "        [-1.40467862e+00,  1.96624459e+00, -1.01768208e+00,\n",
       "         -8.61717639e-01, -1.74204458e-01],\n",
       "        [ 8.91119856e-01,  1.23835755e+00,  7.11864125e-01,\n",
       "         -6.38507855e-01,  2.27095826e-01],\n",
       "        [-5.59488696e-01, -2.67774833e+00,  2.66168084e-01,\n",
       "          9.28006537e-01,  8.04564563e-01]]])"
      ]
     },
     "execution_count": 18,
     "metadata": {},
     "output_type": "execute_result"
    }
   ],
   "source": [
    "stack2"
   ]
  },
  {
   "cell_type": "markdown",
   "metadata": {},
   "source": [
    "# rearranging array elements"
   ]
  },
  {
   "cell_type": "code",
   "execution_count": 19,
   "metadata": {},
   "outputs": [],
   "source": [
    "first = np.array(np.arange(24))\n",
    "second = first.reshape((3,8))\n",
    "third = second.reshape((2,3,4))"
   ]
  },
  {
   "cell_type": "code",
   "execution_count": 20,
   "metadata": {},
   "outputs": [
    {
     "data": {
      "text/plain": [
       "array([[ 0,  1,  2,  3,  4,  5,  6,  7],\n",
       "       [ 8,  9, 10, 11, 12, 13, 14, 15],\n",
       "       [16, 17, 18, 19, 20, 21, 22, 23]])"
      ]
     },
     "execution_count": 20,
     "metadata": {},
     "output_type": "execute_result"
    }
   ],
   "source": [
    "second"
   ]
  },
  {
   "cell_type": "code",
   "execution_count": 21,
   "metadata": {},
   "outputs": [
    {
     "data": {
      "text/plain": [
       "array([[ 7,  6,  5,  4,  3,  2,  1,  0],\n",
       "       [15, 14, 13, 12, 11, 10,  9,  8],\n",
       "       [23, 22, 21, 20, 19, 18, 17, 16]])"
      ]
     },
     "execution_count": 21,
     "metadata": {},
     "output_type": "execute_result"
    }
   ],
   "source": [
    "np.fliplr(second)"
   ]
  },
  {
   "cell_type": "code",
   "execution_count": 22,
   "metadata": {},
   "outputs": [
    {
     "data": {
      "text/plain": [
       "array([[[ 0,  1,  2,  3],\n",
       "        [ 4,  5,  6,  7],\n",
       "        [ 8,  9, 10, 11]],\n",
       "\n",
       "       [[12, 13, 14, 15],\n",
       "        [16, 17, 18, 19],\n",
       "        [20, 21, 22, 23]]])"
      ]
     },
     "execution_count": 22,
     "metadata": {},
     "output_type": "execute_result"
    }
   ],
   "source": [
    "third"
   ]
  },
  {
   "cell_type": "code",
   "execution_count": 23,
   "metadata": {},
   "outputs": [
    {
     "data": {
      "text/plain": [
       "array([[[ 8,  9, 10, 11],\n",
       "        [ 4,  5,  6,  7],\n",
       "        [ 0,  1,  2,  3]],\n",
       "\n",
       "       [[20, 21, 22, 23],\n",
       "        [16, 17, 18, 19],\n",
       "        [12, 13, 14, 15]]])"
      ]
     },
     "execution_count": 23,
     "metadata": {},
     "output_type": "execute_result"
    }
   ],
   "source": [
    "np.fliplr(third)"
   ]
  },
  {
   "cell_type": "code",
   "execution_count": 24,
   "metadata": {},
   "outputs": [
    {
     "data": {
      "text/plain": [
       "array([[[12, 13, 14, 15],\n",
       "        [16, 17, 18, 19],\n",
       "        [20, 21, 22, 23]],\n",
       "\n",
       "       [[ 0,  1,  2,  3],\n",
       "        [ 4,  5,  6,  7],\n",
       "        [ 8,  9, 10, 11]]])"
      ]
     },
     "execution_count": 24,
     "metadata": {},
     "output_type": "execute_result"
    }
   ],
   "source": [
    "np.flipud(third) #flip up and down"
   ]
  },
  {
   "cell_type": "code",
   "execution_count": 25,
   "metadata": {},
   "outputs": [
    {
     "data": {
      "text/plain": [
       "array([ 0,  1,  2,  3,  4,  5,  6,  7,  8,  9, 10, 11, 12, 13, 14, 15, 16,\n",
       "       17, 18, 19, 20, 21, 22, 23])"
      ]
     },
     "execution_count": 25,
     "metadata": {},
     "output_type": "execute_result"
    }
   ],
   "source": [
    "first"
   ]
  },
  {
   "cell_type": "code",
   "execution_count": 26,
   "metadata": {},
   "outputs": [
    {
     "data": {
      "text/plain": [
       "array([19, 20, 21, 22, 23,  0,  1,  2,  3,  4,  5,  6,  7,  8,  9, 10, 11,\n",
       "       12, 13, 14, 15, 16, 17, 18])"
      ]
     },
     "execution_count": 26,
     "metadata": {},
     "output_type": "execute_result"
    }
   ],
   "source": [
    "np.roll(first, 5) #rolls array elements along a specified axis"
   ]
  },
  {
   "cell_type": "code",
   "execution_count": 27,
   "metadata": {},
   "outputs": [
    {
     "data": {
      "text/plain": [
       "array([ 5,  6,  7,  8,  9, 10, 11, 12, 13, 14, 15, 16, 17, 18, 19, 20, 21,\n",
       "       22, 23,  0,  1,  2,  3,  4])"
      ]
     },
     "execution_count": 27,
     "metadata": {},
     "output_type": "execute_result"
    }
   ],
   "source": [
    "np.roll(first, -5) #the first five elements will be changed to the last five"
   ]
  },
  {
   "cell_type": "code",
   "execution_count": 28,
   "metadata": {},
   "outputs": [
    {
     "data": {
      "text/plain": [
       "array([[[ 0,  1,  2,  3],\n",
       "        [ 4,  5,  6,  7],\n",
       "        [ 8,  9, 10, 11]],\n",
       "\n",
       "       [[12, 13, 14, 15],\n",
       "        [16, 17, 18, 19],\n",
       "        [20, 21, 22, 23]]])"
      ]
     },
     "execution_count": 28,
     "metadata": {},
     "output_type": "execute_result"
    }
   ],
   "source": [
    "third"
   ]
  },
  {
   "cell_type": "code",
   "execution_count": 29,
   "metadata": {},
   "outputs": [
    {
     "data": {
      "text/plain": [
       "array([[[22, 23,  0,  1],\n",
       "        [ 2,  3,  4,  5],\n",
       "        [ 6,  7,  8,  9]],\n",
       "\n",
       "       [[10, 11, 12, 13],\n",
       "        [14, 15, 16, 17],\n",
       "        [18, 19, 20, 21]]])"
      ]
     },
     "execution_count": 29,
     "metadata": {},
     "output_type": "execute_result"
    }
   ],
   "source": [
    "np.roll(third, 2)"
   ]
  },
  {
   "cell_type": "code",
   "execution_count": 30,
   "metadata": {},
   "outputs": [
    {
     "data": {
      "text/plain": [
       "array([[[ 2,  3,  4,  5],\n",
       "        [ 6,  7,  8,  9],\n",
       "        [10, 11, 12, 13]],\n",
       "\n",
       "       [[14, 15, 16, 17],\n",
       "        [18, 19, 20, 21],\n",
       "        [22, 23,  0,  1]]])"
      ]
     },
     "execution_count": 30,
     "metadata": {},
     "output_type": "execute_result"
    }
   ],
   "source": [
    "np.roll(third, -2)"
   ]
  },
  {
   "cell_type": "code",
   "execution_count": 31,
   "metadata": {},
   "outputs": [
    {
     "data": {
      "text/plain": [
       "array([[ 0,  1,  2,  3,  4,  5,  6,  7],\n",
       "       [ 8,  9, 10, 11, 12, 13, 14, 15],\n",
       "       [16, 17, 18, 19, 20, 21, 22, 23]])"
      ]
     },
     "execution_count": 31,
     "metadata": {},
     "output_type": "execute_result"
    }
   ],
   "source": [
    "second"
   ]
  },
  {
   "cell_type": "code",
   "execution_count": 32,
   "metadata": {},
   "outputs": [
    {
     "data": {
      "text/plain": [
       "(3, 8)"
      ]
     },
     "execution_count": 32,
     "metadata": {},
     "output_type": "execute_result"
    }
   ],
   "source": [
    "second.shape"
   ]
  },
  {
   "cell_type": "code",
   "execution_count": 33,
   "metadata": {},
   "outputs": [
    {
     "data": {
      "text/plain": [
       "array([[ 7, 15, 23],\n",
       "       [ 6, 14, 22],\n",
       "       [ 5, 13, 21],\n",
       "       [ 4, 12, 20],\n",
       "       [ 3, 11, 19],\n",
       "       [ 2, 10, 18],\n",
       "       [ 1,  9, 17],\n",
       "       [ 0,  8, 16]])"
      ]
     },
     "execution_count": 33,
     "metadata": {},
     "output_type": "execute_result"
    }
   ],
   "source": [
    "np.rot90(second)"
   ]
  },
  {
   "cell_type": "code",
   "execution_count": 34,
   "metadata": {},
   "outputs": [
    {
     "data": {
      "text/plain": [
       "array([[16,  8,  0],\n",
       "       [17,  9,  1],\n",
       "       [18, 10,  2],\n",
       "       [19, 11,  3],\n",
       "       [20, 12,  4],\n",
       "       [21, 13,  5],\n",
       "       [22, 14,  6],\n",
       "       [23, 15,  7]])"
      ]
     },
     "execution_count": 34,
     "metadata": {},
     "output_type": "execute_result"
    }
   ],
   "source": [
    "np.rot90(second, k=-1) #changes the first column to the first row "
   ]
  },
  {
   "cell_type": "code",
   "execution_count": 35,
   "metadata": {},
   "outputs": [
    {
     "data": {
      "text/plain": [
       "array([[23, 22, 21, 20, 19, 18, 17, 16],\n",
       "       [15, 14, 13, 12, 11, 10,  9,  8],\n",
       "       [ 7,  6,  5,  4,  3,  2,  1,  0]])"
      ]
     },
     "execution_count": 35,
     "metadata": {},
     "output_type": "execute_result"
    }
   ],
   "source": [
    "np.rot90(second, k=-2)"
   ]
  },
  {
   "cell_type": "markdown",
   "metadata": {},
   "source": [
    "# Splitting "
   ]
  },
  {
   "cell_type": "code",
   "execution_count": 36,
   "metadata": {},
   "outputs": [
    {
     "data": {
      "text/plain": [
       "[array([0, 1, 2, 3, 4])]"
      ]
     },
     "execution_count": 36,
     "metadata": {},
     "output_type": "execute_result"
    }
   ],
   "source": [
    "temp =  np.arange(5)\n",
    "np.split(temp, 1)"
   ]
  },
  {
   "cell_type": "code",
   "execution_count": 37,
   "metadata": {},
   "outputs": [
    {
     "data": {
      "text/plain": [
       "(5, 3, 4)"
      ]
     },
     "execution_count": 37,
     "metadata": {},
     "output_type": "execute_result"
    }
   ],
   "source": [
    "before_split = stack0\n",
    "before_split.shape"
   ]
  },
  {
   "cell_type": "code",
   "execution_count": 38,
   "metadata": {},
   "outputs": [
    {
     "data": {
      "text/plain": [
       "[array([[[-0.07417178,  1.13566449, -0.99262436, -2.72466844],\n",
       "         [-0.01578935,  1.45260799,  0.77955279,  1.41615738],\n",
       "         [ 0.53229646, -1.40467862,  0.89111986, -0.5594887 ]]]),\n",
       " array([[[-0.97529123,  0.50297084, -0.50816126, -0.2751323 ],\n",
       "         [ 1.24887474,  0.10365068, -0.27809467, -1.33517545],\n",
       "         [ 2.62788418,  1.96624459,  1.23835755, -2.67774833]]]),\n",
       " array([[[-2.61156260e-01, -1.63956818e+00,  1.77393224e-02,\n",
       "          -1.87237063e-01],\n",
       "         [-2.09107871e-01, -2.65544818e-04, -2.98837792e-01,\n",
       "          -1.94143909e-01],\n",
       "         [-6.25622079e-01, -1.01768208e+00,  7.11864125e-01,\n",
       "           2.66168084e-01]]]),\n",
       " array([[[ 2.23561306, -0.11596253, -0.63326171, -0.52736275],\n",
       "         [ 0.05276815, -0.01542905,  0.38128743,  1.17751192],\n",
       "         [-1.05242473, -0.86171764, -0.63850785,  0.92800654]]]),\n",
       " array([[[-1.27545207,  0.7330459 ,  0.50255757,  2.10481976],\n",
       "         [ 1.39311519,  0.04223313,  0.32325458,  1.30242047],\n",
       "         [ 0.21678695, -0.17420446,  0.22709583,  0.80456456]]])]"
      ]
     },
     "execution_count": 38,
     "metadata": {},
     "output_type": "execute_result"
    }
   ],
   "source": [
    "s0=np.split(before_split, 5, axis=0) #\n",
    "s0"
   ]
  },
  {
   "cell_type": "code",
   "execution_count": 39,
   "metadata": {},
   "outputs": [
    {
     "data": {
      "text/plain": [
       "array([[[-7.41717753e-02,  1.13566449e+00, -9.92624359e-01,\n",
       "         -2.72466844e+00],\n",
       "        [-1.57893494e-02,  1.45260799e+00,  7.79552785e-01,\n",
       "          1.41615738e+00],\n",
       "        [ 5.32296462e-01, -1.40467862e+00,  8.91119856e-01,\n",
       "         -5.59488696e-01]],\n",
       "\n",
       "       [[-9.75291231e-01,  5.02970835e-01, -5.08161258e-01,\n",
       "         -2.75132301e-01],\n",
       "        [ 1.24887474e+00,  1.03650681e-01, -2.78094671e-01,\n",
       "         -1.33517545e+00],\n",
       "        [ 2.62788418e+00,  1.96624459e+00,  1.23835755e+00,\n",
       "         -2.67774833e+00]],\n",
       "\n",
       "       [[-2.61156260e-01, -1.63956818e+00,  1.77393224e-02,\n",
       "         -1.87237063e-01],\n",
       "        [-2.09107871e-01, -2.65544818e-04, -2.98837792e-01,\n",
       "         -1.94143909e-01],\n",
       "        [-6.25622079e-01, -1.01768208e+00,  7.11864125e-01,\n",
       "          2.66168084e-01]],\n",
       "\n",
       "       [[ 2.23561306e+00, -1.15962529e-01, -6.33261712e-01,\n",
       "         -5.27362753e-01],\n",
       "        [ 5.27681498e-02, -1.54290529e-02,  3.81287426e-01,\n",
       "          1.17751192e+00],\n",
       "        [-1.05242473e+00, -8.61717639e-01, -6.38507855e-01,\n",
       "          9.28006537e-01]],\n",
       "\n",
       "       [[-1.27545207e+00,  7.33045898e-01,  5.02557571e-01,\n",
       "          2.10481976e+00],\n",
       "        [ 1.39311519e+00,  4.22331292e-02,  3.23254575e-01,\n",
       "          1.30242047e+00],\n",
       "        [ 2.16786955e-01, -1.74204458e-01,  2.27095826e-01,\n",
       "          8.04564563e-01]]])"
      ]
     },
     "execution_count": 39,
     "metadata": {},
     "output_type": "execute_result"
    }
   ],
   "source": [
    "before_split"
   ]
  },
  {
   "cell_type": "code",
   "execution_count": 40,
   "metadata": {},
   "outputs": [
    {
     "data": {
      "text/plain": [
       "(5, 3, 4)"
      ]
     },
     "execution_count": 40,
     "metadata": {},
     "output_type": "execute_result"
    }
   ],
   "source": [
    "before_split.shape"
   ]
  },
  {
   "cell_type": "code",
   "execution_count": 43,
   "metadata": {},
   "outputs": [
    {
     "data": {
      "text/plain": [
       "list"
      ]
     },
     "execution_count": 43,
     "metadata": {},
     "output_type": "execute_result"
    }
   ],
   "source": [
    "type(s0)"
   ]
  },
  {
   "cell_type": "code",
   "execution_count": 44,
   "metadata": {},
   "outputs": [
    {
     "data": {
      "text/plain": [
       "numpy.ndarray"
      ]
     },
     "execution_count": 44,
     "metadata": {},
     "output_type": "execute_result"
    }
   ],
   "source": [
    "type(first)"
   ]
  },
  {
   "cell_type": "code",
   "execution_count": 45,
   "metadata": {},
   "outputs": [],
   "source": [
    "first[2]=4"
   ]
  },
  {
   "cell_type": "code",
   "execution_count": 46,
   "metadata": {},
   "outputs": [
    {
     "data": {
      "text/plain": [
       "array([ 0,  1,  4,  3,  4,  5,  6,  7,  8,  9, 10, 11, 12, 13, 14, 15, 16,\n",
       "       17, 18, 19, 20, 21, 22, 23])"
      ]
     },
     "execution_count": 46,
     "metadata": {},
     "output_type": "execute_result"
    }
   ],
   "source": [
    "first"
   ]
  },
  {
   "cell_type": "code",
   "execution_count": 47,
   "metadata": {},
   "outputs": [
    {
     "data": {
      "text/plain": [
       "[array([[[-0.07417178,  1.13566449, -0.99262436, -2.72466844]],\n",
       " \n",
       "        [[-0.97529123,  0.50297084, -0.50816126, -0.2751323 ]],\n",
       " \n",
       "        [[-0.26115626, -1.63956818,  0.01773932, -0.18723706]],\n",
       " \n",
       "        [[ 2.23561306, -0.11596253, -0.63326171, -0.52736275]],\n",
       " \n",
       "        [[-1.27545207,  0.7330459 ,  0.50255757,  2.10481976]]]),\n",
       " array([[[-1.57893494e-02,  1.45260799e+00,  7.79552785e-01,\n",
       "           1.41615738e+00]],\n",
       " \n",
       "        [[ 1.24887474e+00,  1.03650681e-01, -2.78094671e-01,\n",
       "          -1.33517545e+00]],\n",
       " \n",
       "        [[-2.09107871e-01, -2.65544818e-04, -2.98837792e-01,\n",
       "          -1.94143909e-01]],\n",
       " \n",
       "        [[ 5.27681498e-02, -1.54290529e-02,  3.81287426e-01,\n",
       "           1.17751192e+00]],\n",
       " \n",
       "        [[ 1.39311519e+00,  4.22331292e-02,  3.23254575e-01,\n",
       "           1.30242047e+00]]]),\n",
       " array([[[ 0.53229646, -1.40467862,  0.89111986, -0.5594887 ]],\n",
       " \n",
       "        [[ 2.62788418,  1.96624459,  1.23835755, -2.67774833]],\n",
       " \n",
       "        [[-0.62562208, -1.01768208,  0.71186412,  0.26616808]],\n",
       " \n",
       "        [[-1.05242473, -0.86171764, -0.63850785,  0.92800654]],\n",
       " \n",
       "        [[ 0.21678695, -0.17420446,  0.22709583,  0.80456456]]])]"
      ]
     },
     "execution_count": 47,
     "metadata": {},
     "output_type": "execute_result"
    }
   ],
   "source": [
    "s1=np.split (before_split, 3, axis=1) #splitting the arrays into 3\n",
    "s1"
   ]
  },
  {
   "cell_type": "code",
   "execution_count": 48,
   "metadata": {},
   "outputs": [
    {
     "data": {
      "text/plain": [
       "[array([[[-0.07417178],\n",
       "         [-0.01578935],\n",
       "         [ 0.53229646]],\n",
       " \n",
       "        [[-0.97529123],\n",
       "         [ 1.24887474],\n",
       "         [ 2.62788418]],\n",
       " \n",
       "        [[-0.26115626],\n",
       "         [-0.20910787],\n",
       "         [-0.62562208]],\n",
       " \n",
       "        [[ 2.23561306],\n",
       "         [ 0.05276815],\n",
       "         [-1.05242473]],\n",
       " \n",
       "        [[-1.27545207],\n",
       "         [ 1.39311519],\n",
       "         [ 0.21678695]]]), array([[[ 1.13566449e+00],\n",
       "         [ 1.45260799e+00],\n",
       "         [-1.40467862e+00]],\n",
       " \n",
       "        [[ 5.02970835e-01],\n",
       "         [ 1.03650681e-01],\n",
       "         [ 1.96624459e+00]],\n",
       " \n",
       "        [[-1.63956818e+00],\n",
       "         [-2.65544818e-04],\n",
       "         [-1.01768208e+00]],\n",
       " \n",
       "        [[-1.15962529e-01],\n",
       "         [-1.54290529e-02],\n",
       "         [-8.61717639e-01]],\n",
       " \n",
       "        [[ 7.33045898e-01],\n",
       "         [ 4.22331292e-02],\n",
       "         [-1.74204458e-01]]]), array([[[-0.99262436],\n",
       "         [ 0.77955279],\n",
       "         [ 0.89111986]],\n",
       " \n",
       "        [[-0.50816126],\n",
       "         [-0.27809467],\n",
       "         [ 1.23835755]],\n",
       " \n",
       "        [[ 0.01773932],\n",
       "         [-0.29883779],\n",
       "         [ 0.71186412]],\n",
       " \n",
       "        [[-0.63326171],\n",
       "         [ 0.38128743],\n",
       "         [-0.63850785]],\n",
       " \n",
       "        [[ 0.50255757],\n",
       "         [ 0.32325458],\n",
       "         [ 0.22709583]]]), array([[[-2.72466844],\n",
       "         [ 1.41615738],\n",
       "         [-0.5594887 ]],\n",
       " \n",
       "        [[-0.2751323 ],\n",
       "         [-1.33517545],\n",
       "         [-2.67774833]],\n",
       " \n",
       "        [[-0.18723706],\n",
       "         [-0.19414391],\n",
       "         [ 0.26616808]],\n",
       " \n",
       "        [[-0.52736275],\n",
       "         [ 1.17751192],\n",
       "         [ 0.92800654]],\n",
       " \n",
       "        [[ 2.10481976],\n",
       "         [ 1.30242047],\n",
       "         [ 0.80456456]]])]"
      ]
     },
     "execution_count": 48,
     "metadata": {},
     "output_type": "execute_result"
    }
   ],
   "source": [
    "s2=np.split (before_split, 4, axis=2)\n",
    "s2"
   ]
  },
  {
   "cell_type": "code",
   "execution_count": 49,
   "metadata": {},
   "outputs": [
    {
     "data": {
      "text/plain": [
       "array([[ 0,  1,  4,  3,  4,  5,  6,  7],\n",
       "       [ 8,  9, 10, 11, 12, 13, 14, 15],\n",
       "       [16, 17, 18, 19, 20, 21, 22, 23]])"
      ]
     },
     "execution_count": 49,
     "metadata": {},
     "output_type": "execute_result"
    }
   ],
   "source": [
    "second"
   ]
  },
  {
   "cell_type": "markdown",
   "metadata": {},
   "source": [
    "# views and copies"
   ]
  },
  {
   "cell_type": "code",
   "execution_count": 50,
   "metadata": {},
   "outputs": [],
   "source": [
    "first1 = np.array([-45, -31, -12, 0, 2, 25, 51, 99])"
   ]
  },
  {
   "cell_type": "code",
   "execution_count": 51,
   "metadata": {},
   "outputs": [
    {
     "data": {
      "text/plain": [
       "array([-45, -31, -12,   0, 100,  25,  51,  99])"
      ]
     },
     "execution_count": 51,
     "metadata": {},
     "output_type": "execute_result"
    }
   ],
   "source": [
    "first1[4]=100\n",
    "first1"
   ]
  },
  {
   "cell_type": "code",
   "execution_count": 52,
   "metadata": {},
   "outputs": [],
   "source": [
    "second1=first1 #same"
   ]
  },
  {
   "cell_type": "code",
   "execution_count": 53,
   "metadata": {},
   "outputs": [
    {
     "data": {
      "text/plain": [
       "array(['pea', '45', 'mango', '78', 'orange', '70', 'sugarcane', '30'],\n",
       "      dtype='<U9')"
      ]
     },
     "execution_count": 53,
     "metadata": {},
     "output_type": "execute_result"
    }
   ],
   "source": [
    "price=np.array([\"pea\",45,\"mango\",78,\"orange\",70,\"sugarcane\",30])\n",
    "price"
   ]
  },
  {
   "cell_type": "code",
   "execution_count": 54,
   "metadata": {},
   "outputs": [],
   "source": [
    "price[3]=100 #change price of mango to 100"
   ]
  },
  {
   "cell_type": "code",
   "execution_count": 55,
   "metadata": {},
   "outputs": [
    {
     "data": {
      "text/plain": [
       "array(['pea', '45', 'mango', '100', 'orange', '70', 'sugarcane', '30'],\n",
       "      dtype='<U9')"
      ]
     },
     "execution_count": 55,
     "metadata": {},
     "output_type": "execute_result"
    }
   ],
   "source": [
    "price"
   ]
  },
  {
   "cell_type": "code",
   "execution_count": 57,
   "metadata": {},
   "outputs": [],
   "source": [
    "price[5]=50"
   ]
  },
  {
   "cell_type": "code",
   "execution_count": 58,
   "metadata": {},
   "outputs": [
    {
     "data": {
      "text/plain": [
       "array(['pea', '45', 'mango', '100', 'orange', '50', 'sugarcane', '30'],\n",
       "      dtype='<U9')"
      ]
     },
     "execution_count": 58,
     "metadata": {},
     "output_type": "execute_result"
    }
   ],
   "source": [
    "price"
   ]
  },
  {
   "cell_type": "code",
   "execution_count": 60,
   "metadata": {},
   "outputs": [],
   "source": [
    "price[3]=\"banana\""
   ]
  },
  {
   "cell_type": "code",
   "execution_count": 61,
   "metadata": {},
   "outputs": [
    {
     "data": {
      "text/plain": [
       "array(['pea', '45', 'mango', 'banana', 'orange', '50', 'sugarcane', '30'],\n",
       "      dtype='<U9')"
      ]
     },
     "execution_count": 61,
     "metadata": {},
     "output_type": "execute_result"
    }
   ],
   "source": [
    "price"
   ]
  },
  {
   "cell_type": "code",
   "execution_count": 62,
   "metadata": {},
   "outputs": [],
   "source": [
    "price[3]=100"
   ]
  },
  {
   "cell_type": "code",
   "execution_count": 63,
   "metadata": {},
   "outputs": [
    {
     "data": {
      "text/plain": [
       "array(['pea', '45', 'mango', '100', 'orange', '50', 'sugarcane', '30'],\n",
       "      dtype='<U9')"
      ]
     },
     "execution_count": 63,
     "metadata": {},
     "output_type": "execute_result"
    }
   ],
   "source": [
    "price"
   ]
  },
  {
   "cell_type": "code",
   "execution_count": 64,
   "metadata": {},
   "outputs": [],
   "source": [
    "price[2]=\"banana\""
   ]
  },
  {
   "cell_type": "code",
   "execution_count": 65,
   "metadata": {},
   "outputs": [
    {
     "data": {
      "text/plain": [
       "array(['pea', '45', 'banana', '100', 'orange', '50', 'sugarcane', '30'],\n",
       "      dtype='<U9')"
      ]
     },
     "execution_count": 65,
     "metadata": {},
     "output_type": "execute_result"
    }
   ],
   "source": [
    "price"
   ]
  },
  {
   "cell_type": "code",
   "execution_count": 66,
   "metadata": {},
   "outputs": [
    {
     "data": {
      "text/plain": [
       "True"
      ]
     },
     "execution_count": 66,
     "metadata": {},
     "output_type": "execute_result"
    }
   ],
   "source": [
    "#reference equality\n",
    "first1 is second1\n"
   ]
  },
  {
   "cell_type": "code",
   "execution_count": 67,
   "metadata": {},
   "outputs": [
    {
     "data": {
      "text/plain": [
       "2030777973616"
      ]
     },
     "execution_count": 67,
     "metadata": {},
     "output_type": "execute_result"
    }
   ],
   "source": [
    "id(first1)"
   ]
  },
  {
   "cell_type": "code",
   "execution_count": 68,
   "metadata": {},
   "outputs": [
    {
     "data": {
      "text/plain": [
       "2030777973616"
      ]
     },
     "execution_count": 68,
     "metadata": {},
     "output_type": "execute_result"
    }
   ],
   "source": [
    "id(second1)"
   ]
  },
  {
   "cell_type": "code",
   "execution_count": 69,
   "metadata": {},
   "outputs": [
    {
     "data": {
      "text/plain": [
       "array([ True,  True,  True,  True,  True,  True,  True,  True])"
      ]
     },
     "execution_count": 69,
     "metadata": {},
     "output_type": "execute_result"
    }
   ],
   "source": [
    "#value inequality\n",
    "first1==second1"
   ]
  },
  {
   "cell_type": "code",
   "execution_count": 92,
   "metadata": {},
   "outputs": [
    {
     "data": {
      "text/plain": [
       "array([-45, -31, -12,   0,   2,  25,  51,  99])"
      ]
     },
     "execution_count": 92,
     "metadata": {},
     "output_type": "execute_result"
    }
   ],
   "source": [
    "#view:doing copy 1\n",
    "tree_house = np.array([-45, -31, -12, 0, 2, 25, 51, 99])\n",
    "farm_house=tree_house.view()\n",
    "farm_house.shape = (2,4)\n",
    "tree_house"
   ]
  },
  {
   "cell_type": "code",
   "execution_count": 71,
   "metadata": {},
   "outputs": [
    {
     "data": {
      "text/plain": [
       "array([[-45, -31, -12,   0],\n",
       "       [  2,  25,  51,  99]])"
      ]
     },
     "execution_count": 71,
     "metadata": {},
     "output_type": "execute_result"
    }
   ],
   "source": [
    "farm_house"
   ]
  },
  {
   "cell_type": "code",
   "execution_count": 93,
   "metadata": {},
   "outputs": [],
   "source": [
    "tree_house[3]=-111"
   ]
  },
  {
   "cell_type": "code",
   "execution_count": 78,
   "metadata": {},
   "outputs": [
    {
     "data": {
      "text/plain": [
       "array([ -45,  -31,  -12, -111,    2,   25,   51,   99])"
      ]
     },
     "execution_count": 78,
     "metadata": {},
     "output_type": "execute_result"
    }
   ],
   "source": [
    "tree_house"
   ]
  },
  {
   "cell_type": "code",
   "execution_count": 79,
   "metadata": {},
   "outputs": [],
   "source": [
    "farm_house = tree_house"
   ]
  },
  {
   "cell_type": "code",
   "execution_count": 80,
   "metadata": {},
   "outputs": [
    {
     "data": {
      "text/plain": [
       "array([ -45,  -31,  -12, -111,    2,   25,   51,   99])"
      ]
     },
     "execution_count": 80,
     "metadata": {},
     "output_type": "execute_result"
    }
   ],
   "source": [
    "tree_house"
   ]
  },
  {
   "cell_type": "code",
   "execution_count": 94,
   "metadata": {},
   "outputs": [
    {
     "data": {
      "text/plain": [
       "array([[ -45,  -31,  -12, -111],\n",
       "       [   2,   25,   51,   99]])"
      ]
     },
     "execution_count": 94,
     "metadata": {},
     "output_type": "execute_result"
    }
   ],
   "source": [
    "farm_house"
   ]
  },
  {
   "cell_type": "code",
   "execution_count": 95,
   "metadata": {},
   "outputs": [
    {
     "data": {
      "text/plain": [
       "array([-121,  -31,  -12, -111,    2,   25,   51,   99])"
      ]
     },
     "execution_count": 95,
     "metadata": {},
     "output_type": "execute_result"
    }
   ],
   "source": [
    "#doing copy 2\n",
    "dog_house = np.copy(tree_house)\n",
    "dog_house[0] = -121\n",
    "dog_house"
   ]
  },
  {
   "cell_type": "code",
   "execution_count": 96,
   "metadata": {},
   "outputs": [
    {
     "data": {
      "text/plain": [
       "array([ -45,  -31,  -12, -111,    2,   25,   51,   99])"
      ]
     },
     "execution_count": 96,
     "metadata": {},
     "output_type": "execute_result"
    }
   ],
   "source": [
    "tree_house"
   ]
  },
  {
   "cell_type": "markdown",
   "metadata": {},
   "source": [
    "# transpose like operations"
   ]
  },
  {
   "cell_type": "code",
   "execution_count": 97,
   "metadata": {},
   "outputs": [
    {
     "data": {
      "text/plain": [
       "array([ 0,  1,  4,  3,  4,  5,  6,  7,  8,  9, 10, 11, 12, 13, 14, 15, 16,\n",
       "       17, 18, 19, 20, 21, 22, 23])"
      ]
     },
     "execution_count": 97,
     "metadata": {},
     "output_type": "execute_result"
    }
   ],
   "source": [
    "first\n"
   ]
  },
  {
   "cell_type": "code",
   "execution_count": 98,
   "metadata": {},
   "outputs": [
    {
     "data": {
      "text/plain": [
       "array([ 0,  1,  4,  3,  4,  5,  6,  7,  8,  9, 10, 11, 12, 13, 14, 15, 16,\n",
       "       17, 18, 19, 20, 21, 22, 23])"
      ]
     },
     "execution_count": 98,
     "metadata": {},
     "output_type": "execute_result"
    }
   ],
   "source": [
    "np.transpose(first) #1-dimension, no change"
   ]
  },
  {
   "cell_type": "code",
   "execution_count": 99,
   "metadata": {},
   "outputs": [
    {
     "data": {
      "text/plain": [
       "array([[ 0,  1,  4,  3,  4,  5,  6,  7],\n",
       "       [ 8,  9, 10, 11, 12, 13, 14, 15],\n",
       "       [16, 17, 18, 19, 20, 21, 22, 23]])"
      ]
     },
     "execution_count": 99,
     "metadata": {},
     "output_type": "execute_result"
    }
   ],
   "source": [
    "second"
   ]
  },
  {
   "cell_type": "code",
   "execution_count": 100,
   "metadata": {},
   "outputs": [
    {
     "data": {
      "text/plain": [
       "array([[ 0,  8, 16],\n",
       "       [ 1,  9, 17],\n",
       "       [ 4, 10, 18],\n",
       "       [ 3, 11, 19],\n",
       "       [ 4, 12, 20],\n",
       "       [ 5, 13, 21],\n",
       "       [ 6, 14, 22],\n",
       "       [ 7, 15, 23]])"
      ]
     },
     "execution_count": 100,
     "metadata": {},
     "output_type": "execute_result"
    }
   ],
   "source": [
    "np.transpose(second)"
   ]
  },
  {
   "cell_type": "code",
   "execution_count": 101,
   "metadata": {},
   "outputs": [
    {
     "data": {
      "text/plain": [
       "array([[[ 0,  1,  4,  3],\n",
       "        [ 4,  5,  6,  7],\n",
       "        [ 8,  9, 10, 11]],\n",
       "\n",
       "       [[12, 13, 14, 15],\n",
       "        [16, 17, 18, 19],\n",
       "        [20, 21, 22, 23]]])"
      ]
     },
     "execution_count": 101,
     "metadata": {},
     "output_type": "execute_result"
    }
   ],
   "source": [
    "third"
   ]
  },
  {
   "cell_type": "code",
   "execution_count": 102,
   "metadata": {},
   "outputs": [
    {
     "data": {
      "text/plain": [
       "array([[[ 0,  4,  8],\n",
       "        [ 1,  5,  9],\n",
       "        [ 4,  6, 10],\n",
       "        [ 3,  7, 11]],\n",
       "\n",
       "       [[12, 16, 20],\n",
       "        [13, 17, 21],\n",
       "        [14, 18, 22],\n",
       "        [15, 19, 23]]])"
      ]
     },
     "execution_count": 102,
     "metadata": {},
     "output_type": "execute_result"
    }
   ],
   "source": [
    "np.transpose(third,axes=(0,2,1)) #the rows are now columns "
   ]
  },
  {
   "cell_type": "code",
   "execution_count": 103,
   "metadata": {},
   "outputs": [
    {
     "data": {
      "text/plain": [
       "array([[[ 0, 12],\n",
       "        [ 4, 16],\n",
       "        [ 8, 20]],\n",
       "\n",
       "       [[ 1, 13],\n",
       "        [ 5, 17],\n",
       "        [ 9, 21]],\n",
       "\n",
       "       [[ 4, 14],\n",
       "        [ 6, 18],\n",
       "        [10, 22]],\n",
       "\n",
       "       [[ 3, 15],\n",
       "        [ 7, 19],\n",
       "        [11, 23]]])"
      ]
     },
     "execution_count": 103,
     "metadata": {},
     "output_type": "execute_result"
    }
   ],
   "source": [
    "np.transpose(third, axes=(2,1,0))"
   ]
  },
  {
   "cell_type": "code",
   "execution_count": 104,
   "metadata": {},
   "outputs": [
    {
     "data": {
      "text/plain": [
       "array([[[ 0,  1,  4,  3],\n",
       "        [12, 13, 14, 15]],\n",
       "\n",
       "       [[ 4,  5,  6,  7],\n",
       "        [16, 17, 18, 19]],\n",
       "\n",
       "       [[ 8,  9, 10, 11],\n",
       "        [20, 21, 22, 23]]])"
      ]
     },
     "execution_count": 104,
     "metadata": {},
     "output_type": "execute_result"
    }
   ],
   "source": [
    "np.rollaxis(third, 0,2) #Roll Axis"
   ]
  },
  {
   "cell_type": "code",
   "execution_count": 5,
   "metadata": {},
   "outputs": [],
   "source": [
    "#Figures and Subplots-container that holds elements of plots\n",
    "#subplot-appears within a rectangular grid within a figure\n",
    "import matplotlib.pyplot as plt"
   ]
  },
  {
   "cell_type": "code",
   "execution_count": 106,
   "metadata": {},
   "outputs": [
    {
     "data": {
      "text/plain": [
       "<Figure size 432x288 with 0 Axes>"
      ]
     },
     "metadata": {},
     "output_type": "display_data"
    }
   ],
   "source": [
    "my_first_figure = plt.figure(\"My First Figure\")"
   ]
  },
  {
   "cell_type": "code",
   "execution_count": 107,
   "metadata": {},
   "outputs": [
    {
     "data": {
      "image/png": "[encoded data removed]",
      "text/plain": [
       "<Figure size 432x288 with 1 Axes>"
      ]
     },
     "metadata": {
      "needs_background": "light"
     },
     "output_type": "display_data"
    }
   ],
   "source": [
    "subplot_1 = my_first_figure.add_subplot(2, 3, 1)\n",
    "subplot_6 = my_first_figure.add_subplot(2, 3, 6)\n",
    "plt.plot(np.random.rand(50).cumsum(), 'k--')\n",
    "plt.show()"
   ]
  },
  {
   "cell_type": "code",
   "execution_count": 108,
   "metadata": {},
   "outputs": [],
   "source": [
    "subplot_2 = my_first_figure.add_subplot(2, 3, 2)"
   ]
  },
  {
   "cell_type": "code",
   "execution_count": 109,
   "metadata": {},
   "outputs": [
    {
     "data": {
      "text/plain": [
       "[<matplotlib.lines.Line2D at 0x1d8d3f51208>]"
      ]
     },
     "execution_count": 109,
     "metadata": {},
     "output_type": "execute_result"
    },
    {
     "data": {
      "image/png": "[encoded data removed]",
      "text/plain": [
       "<Figure size 432x288 with 1 Axes>"
      ]
     },
     "metadata": {
      "needs_background": "light"
     },
     "output_type": "display_data"
    }
   ],
   "source": [
    "plt.plot(np.random.rand(50), 'go')"
   ]
  },
  {
   "cell_type": "code",
   "execution_count": 110,
   "metadata": {},
   "outputs": [
    {
     "data": {
      "text/plain": [
       "<matplotlib.axes._subplots.AxesSubplot at 0x1d8d3d5acf8>"
      ]
     },
     "execution_count": 110,
     "metadata": {},
     "output_type": "execute_result"
    }
   ],
   "source": [
    "subplot_6"
   ]
  },
  {
   "cell_type": "code",
   "execution_count": 111,
   "metadata": {},
   "outputs": [],
   "source": [
    "plt.show()"
   ]
  },
  {
   "cell_type": "code",
   "execution_count": 112,
   "metadata": {},
   "outputs": [],
   "source": [
    "#Multiple lines, SinglePlot\n",
    "data_set_size = 15\n",
    "low_mu, low_sigma = 50, 4.3\n",
    "low_data_set = low_mu + low_sigma *np.random.randn(data_set_size)\n",
    "high_mu,high_sigma = 57, 5.2\n",
    "high_data_set = high_mu + high_sigma * np.random.randn(data_set_size)\n",
    "\n",
    "days = list(range(1, data_set_size +1))"
   ]
  },
  {
   "cell_type": "code",
   "execution_count": 113,
   "metadata": {},
   "outputs": [
    {
     "data": {
      "image/png": "[encoded data removed]",
      "text/plain": [
       "<Figure size 432x288 with 1 Axes>"
      ]
     },
     "metadata": {
      "needs_background": "light"
     },
     "output_type": "display_data"
    }
   ],
   "source": [
    "plt.plot(days, low_data_set)\n",
    "plt.show()"
   ]
  },
  {
   "cell_type": "code",
   "execution_count": 116,
   "metadata": {},
   "outputs": [
    {
     "data": {
      "image/png": "[encoded data removed]",
      "text/plain": [
       "<Figure size 432x288 with 1 Axes>"
      ]
     },
     "metadata": {
      "needs_background": "light"
     },
     "output_type": "display_data"
    }
   ],
   "source": [
    "plt.plot(days, low_data_set,\n",
    "        days, high_data_set)\n",
    "plt.show()"
   ]
  },
  {
   "cell_type": "code",
   "execution_count": 117,
   "metadata": {},
   "outputs": [
    {
     "data": {
      "image/png": "[encoded data removed]",
      "text/plain": [
       "<Figure size 432x288 with 1 Axes>"
      ]
     },
     "metadata": {
      "needs_background": "light"
     },
     "output_type": "display_data"
    }
   ],
   "source": [
    "plt.plot(days, low_data_set,\n",
    "         days, low_data_set, \"vm\", \n",
    "        days, high_data_set,\n",
    "        days, high_data_set, \"^k\")\n",
    "plt.show()"
   ]
  },
  {
   "cell_type": "code",
   "execution_count": 118,
   "metadata": {},
   "outputs": [
    {
     "data": {
      "image/png": "[encoded data removed]",
      "text/plain": [
       "<Figure size 432x288 with 1 Axes>"
      ]
     },
     "metadata": {
      "needs_background": "light"
     },
     "output_type": "display_data"
    }
   ],
   "source": [
    "plt.plot(days, high_data_set, \"^k\")\n",
    "plt.show()"
   ]
  },
  {
   "cell_type": "markdown",
   "metadata": {},
   "source": [
    "# PIE CHART"
   ]
  },
  {
   "cell_type": "code",
   "execution_count": 7,
   "metadata": {},
   "outputs": [
    {
     "data": {
      "image/png": "[encoded data removed]",
      "text/plain": [
       "<Figure size 432x288 with 1 Axes>"
      ]
     },
     "metadata": {},
     "output_type": "display_data"
    }
   ],
   "source": [
    "#The slices will be ordwered and plotted counter-clockwise\n",
    "labels = 'usman', 'david', 'victor', 'bola'\n",
    "sizes = [15, 30, 45, 10]\n",
    "colors = ['yellowgreen', 'gold', 'lightskyblue', 'lightcoral']\n",
    "explode = (0, 0.1, 0, 0) #only explode the second slice (i.e hogs)\n",
    "\n",
    "plt.pie(x=sizes, explode=explode, labels=labels, colors=colors,\n",
    "       autopct='%1.2f%%', shadow=True, startangle=90)\n",
    "#set aspect ratio to be equal so that pie is drawn as circle.\n",
    "plt.axis('equal')\n",
    "\n",
    "plt.show()"
   ]
  },
  {
   "cell_type": "markdown",
   "metadata": {},
   "source": [
    "# Beautiful plots from the matplotlib"
   ]
  },
  {
   "cell_type": "markdown",
   "metadata": {},
   "source": [
    "http://matplotlib.org/gallery.html\n",
    "    "
   ]
  },
  {
   "cell_type": "code",
   "execution_count": 8,
   "metadata": {},
   "outputs": [
    {
     "data": {
      "image/png": "[encoded data removed]",
      "text/plain": [
       "<Figure size 648x288 with 2 Axes>"
      ]
     },
     "metadata": {
      "needs_background": "light"
     },
     "output_type": "display_data"
    }
   ],
   "source": [
    "\"\"\"\n",
    "===================================\n",
    "Box plot vs. violin plot comparison\n",
    "===================================\n",
    "\n",
    "Note that although violin plots are closely related to Tukey's (1977)\n",
    "box plots, they add useful information such as the distribution of the\n",
    "sample data (density trace).\n",
    "\n",
    "By default, box plots show data points outside 1.5 * the inter-quartile\n",
    "range as outliers above or below the whiskers whereas violin plots show\n",
    "the whole range of the data.\n",
    "\n",
    "A good general reference on boxplots and their history can be found\n",
    "here: http://vita.had.co.nz/papers/boxplots.pdf\n",
    "\n",
    "Violin plots require matplotlib >= 1.4.\n",
    "\n",
    "For more information on violin plots, the scikit-learn docs have a great\n",
    "section: http://scikit-learn.org/stable/modules/density.html\n",
    "\"\"\"\n",
    "\n",
    "import matplotlib.pyplot as plt\n",
    "import numpy as np\n",
    "\n",
    "fig, axes = plt.subplots(nrows=1, ncols=2, figsize=(9, 4))\n",
    "\n",
    "# generate some random test data\n",
    "all_data = [np.random.normal(0, std, 100) for std in range(6, 10)]\n",
    "\n",
    "# plot violin plot\n",
    "axes[0].violinplot(all_data,\n",
    "                   showmeans=False,\n",
    "                   showmedians=True)\n",
    "axes[0].set_title('violin plot')\n",
    "\n",
    "# plot box plot\n",
    "axes[1].boxplot(all_data)\n",
    "axes[1].set_title('box plot')\n",
    "\n",
    "# adding horizontal grid lines\n",
    "for ax in axes:\n",
    "    ax.yaxis.grid(True)\n",
    "    ax.set_xticks([y+1 for y in range(len(all_data))])\n",
    "    ax.set_xlabel('xlabel')\n",
    "    ax.set_ylabel('ylabel')\n",
    "\n",
    "# add x-tick labels\n",
    "plt.setp(axes, xticks=[y+1 for y in range(len(all_data))],\n",
    "         xticklabels=['x1', 'x2', 'x3', 'x4'])\n",
    "plt.show()"
   ]
  },
  {
   "cell_type": "code",
   "execution_count": 9,
   "metadata": {},
   "outputs": [
    {
     "data": {
      "image/png": "[encoded data removed]",
      "text/plain": [
       "<Figure size 432x288 with 1 Axes>"
      ]
     },
     "metadata": {
      "needs_background": "light"
     },
     "output_type": "display_data"
    }
   ],
   "source": [
    "\"\"\"\n",
    "Simple demo of a scatter plot.\n",
    "\"\"\"\n",
    "import numpy as np\n",
    "import matplotlib.pyplot as plt\n",
    "\n",
    "\n",
    "N = 50\n",
    "x = np.random.rand(N)\n",
    "y = np.random.rand(N)\n",
    "colors = np.random.rand(N)\n",
    "area = np.pi * (15 * np.random.rand(N))**2  # 0 to 15 point radii\n",
    "\n",
    "plt.scatter(x, y, s=area, c=colors, alpha=0.5)\n",
    "plt.show()"
   ]
  },
  {
   "cell_type": "markdown",
   "metadata": {},
   "source": [
    "# PYTHON TUPLE"
   ]
  },
  {
   "cell_type": "code",
   "execution_count": null,
   "metadata": {},
   "outputs": [],
   "source": [
    "#A tuple is a sequence of immutable python objects, tuples are sequences, just like list. tuples cannot be changed unlike lists, and tuples use\n",
    "#parantheses, whereas list uses square brackets.  Creating a tuple is as simple as putting different comma- separated values."
   ]
  },
  {
   "cell_type": "code",
   "execution_count": 10,
   "metadata": {},
   "outputs": [
    {
     "name": "stdout",
     "output_type": "stream",
     "text": [
      "The student height list is: [1, 4, 6, 8, 9]\n"
     ]
    }
   ],
   "source": [
    "#convert list to a tuple\n",
    "#initialise list\n",
    "student_height = [1, 4, 6, 8, 9]\n",
    "#printing original list\n",
    "\n",
    "print(\"The student height list is: \" + str(student_height))"
   ]
  },
  {
   "cell_type": "code",
   "execution_count": 11,
   "metadata": {},
   "outputs": [
    {
     "name": "stdout",
     "output_type": "stream",
     "text": [
      "List after conversion to tuple list is [(1,), (4,), (6,), (8,), (9,)]\n"
     ]
    }
   ],
   "source": [
    "#convert the student height list to tuple list\n",
    "tupleheight = [(ele,) for ele in student_height]\n",
    "\n",
    "#printing result\n",
    "print(\"List after conversion to tuple list is \" + str(tupleheight))"
   ]
  },
  {
   "cell_type": "code",
   "execution_count": 12,
   "metadata": {},
   "outputs": [
    {
     "name": "stdout",
     "output_type": "stream",
     "text": [
      "The original list is : [('D', 'A', 'T', 'A', 'L', 'A', 'B'), ('N', 'I', 'C', 'E'), ('I', 'N', 'T', 'E', 'R', 'N', 'S')]\n"
     ]
    }
   ],
   "source": [
    "#Convert lists of tuples to list of strings\n",
    "#initialise list\n",
    "test_list = [('D', 'A', 'T', 'A', 'L', 'A', 'B'), ('N', 'I', 'C', 'E'), ('I', 'N', 'T', 'E', 'R', 'N', 'S')]\n",
    "#printing the original list\n",
    "print(\"The original list is : \" + str(test_list))\n"
   ]
  },
  {
   "cell_type": "code",
   "execution_count": 13,
   "metadata": {},
   "outputs": [
    {
     "name": "stdout",
     "output_type": "stream",
     "text": [
      "So we write : ['DATALAB', 'NICE', 'INTERNS']\n"
     ]
    }
   ],
   "source": [
    "#conversion of list of tuples to list of string \n",
    "res = [''.join(i) for i in test_list]\n",
    "\n",
    "#printing result\n",
    "print(\"So we write : \" + str(res))"
   ]
  },
  {
   "cell_type": "markdown",
   "metadata": {},
   "source": [
    "# FINDING PATTERN IN DATA AND DIFFERENCING"
   ]
  },
  {
   "cell_type": "code",
   "execution_count": 15,
   "metadata": {},
   "outputs": [],
   "source": [
    "#convert list to array\n",
    "\n",
    "from array import array\n",
    "\n",
    "#initialising list "
   ]
  },
  {
   "cell_type": "code",
   "execution_count": 16,
   "metadata": {},
   "outputs": [
    {
     "data": {
      "text/plain": [
       "[1, 7, 19, 37, 61, 91, 127, 169, 217, 271, 331]"
      ]
     },
     "execution_count": 16,
     "metadata": {},
     "output_type": "execute_result"
    }
   ],
   "source": [
    "list = [1, 7, 19, 37, 61, 91, 127, 169, 217, 271, 331]\n",
    "list"
   ]
  },
  {
   "cell_type": "code",
   "execution_count": 17,
   "metadata": {},
   "outputs": [
    {
     "name": "stdout",
     "output_type": "stream",
     "text": [
      "This is my list after conversion to array : array('i', [1, 7, 19, 37, 61, 91, 127, 169, 217, 271, 331])\n"
     ]
    }
   ],
   "source": [
    "#convert list to python array\n",
    "\n",
    "result = array(\"i\", list)\n",
    "\n",
    "#printing result\n",
    "print(\"This is my list after conversion to array : \" + str(result))"
   ]
  },
  {
   "cell_type": "code",
   "execution_count": 18,
   "metadata": {},
   "outputs": [
    {
     "data": {
      "text/plain": [
       "array([ 6, 12, 18, 24, 30, 36, 42, 48, 54, 60], dtype=int32)"
      ]
     },
     "execution_count": 18,
     "metadata": {},
     "output_type": "execute_result"
    }
   ],
   "source": [
    "np.diff(result) #use python diff function"
   ]
  },
  {
   "cell_type": "code",
   "execution_count": 19,
   "metadata": {},
   "outputs": [
    {
     "data": {
      "text/plain": [
       "array([6, 6, 6, 6, 6, 6, 6, 6, 6], dtype=int32)"
      ]
     },
     "execution_count": 19,
     "metadata": {},
     "output_type": "execute_result"
    }
   ],
   "source": [
    "np.diff(result, n=2) #perform second order difference"
   ]
  },
  {
   "cell_type": "code",
   "execution_count": 20,
   "metadata": {},
   "outputs": [
    {
     "data": {
      "text/plain": [
       "array([0, 0, 0, 0, 0, 0, 0, 0], dtype=int32)"
      ]
     },
     "execution_count": 20,
     "metadata": {},
     "output_type": "execute_result"
    }
   ],
   "source": [
    "np.diff(result, n=3) #perform the third order difference "
   ]
  },
  {
   "cell_type": "markdown",
   "metadata": {},
   "source": [
    "# Linear algebra"
   ]
  },
  {
   "cell_type": "code",
   "execution_count": 21,
   "metadata": {},
   "outputs": [
    {
     "name": "stdout",
     "output_type": "stream",
     "text": [
      "\n",
      "Note: you may need to restart the kernel to use updated packages.\n"
     ]
    },
    {
     "name": "stderr",
     "output_type": "stream",
     "text": [
      "WARNING: The conda.compat module is deprecated and will be removed in a future release.\n",
      "\n",
      "CondaValueError: invalid package specification: #computer\n",
      "\n"
     ]
    }
   ],
   "source": [
    "conda install sympy #computer algebra system (CAS)"
   ]
  },
  {
   "cell_type": "code",
   "execution_count": 22,
   "metadata": {},
   "outputs": [
    {
     "name": "stdout",
     "output_type": "stream",
     "text": [
      "IPython console for SymPy 1.3 (Python 3.7.3-64-bit) (ground types: python)\n",
      "\n",
      "These commands were executed:\n",
      ">>> from __future__ import division\n",
      ">>> from sympy import *\n",
      ">>> x, y, z, t = symbols('x y z t')\n",
      ">>> k, m, n = symbols('k m n', integer=True)\n",
      ">>> f, g, h = symbols('f g h', cls=Function)\n",
      ">>> init_printing()\n",
      "\n",
      "Documentation can be found at http://docs.sympy.org/1.3/\n",
      "\n"
     ]
    }
   ],
   "source": [
    "from sympy import init_session\n",
    "init_session()"
   ]
  },
  {
   "cell_type": "code",
   "execution_count": 23,
   "metadata": {},
   "outputs": [
    {
     "data": {
      "image/png": "[encoded data removed]",
      "text/latex": [
       "$$3 x^{2}$$"
      ],
      "text/plain": [
       "   2\n",
       "3⋅x "
      ]
     },
     "execution_count": 23,
     "metadata": {},
     "output_type": "execute_result"
    }
   ],
   "source": [
    "diff(x**3)"
   ]
  },
  {
   "cell_type": "code",
   "execution_count": 29,
   "metadata": {},
   "outputs": [
    {
     "data": {
      "image/png": "[encoded data removed]",
      "text/latex": [
       "$$6 x$$"
      ],
      "text/plain": [
       "6⋅x"
      ]
     },
     "execution_count": 29,
     "metadata": {},
     "output_type": "execute_result"
    }
   ],
   "source": [
    "diff(x**3, x, 2)"
   ]
  },
  {
   "cell_type": "code",
   "execution_count": 30,
   "metadata": {},
   "outputs": [
    {
     "data": {
      "image/png": "[encoded data removed]",
      "text/latex": [
       "$$6$$"
      ],
      "text/plain": [
       "6"
      ]
     },
     "execution_count": 30,
     "metadata": {},
     "output_type": "execute_result"
    }
   ],
   "source": [
    "diff(x**3, x, 3)"
   ]
  },
  {
   "cell_type": "code",
   "execution_count": 31,
   "metadata": {},
   "outputs": [
    {
     "data": {
      "image/png": "[encoded data removed]",
      "text/latex": [
       "$$0$$"
      ],
      "text/plain": [
       "0"
      ]
     },
     "execution_count": 31,
     "metadata": {},
     "output_type": "execute_result"
    }
   ],
   "source": [
    "diff(x**3, x, 4)"
   ]
  },
  {
   "cell_type": "code",
   "execution_count": 33,
   "metadata": {},
   "outputs": [
    {
     "data": {
      "image/png": "[encoded data removed]",
      "text/latex": [
       "$$12 x^{3}$$"
      ],
      "text/plain": [
       "    3\n",
       "12⋅x "
      ]
     },
     "execution_count": 33,
     "metadata": {},
     "output_type": "execute_result"
    }
   ],
   "source": [
    "diff(3*x**4,)"
   ]
  },
  {
   "cell_type": "code",
   "execution_count": 36,
   "metadata": {},
   "outputs": [
    {
     "data": {
      "image/png": "[encoded data removed]",
      "text/latex": [
       "$$36 x^{2}$$"
      ],
      "text/plain": [
       "    2\n",
       "36⋅x "
      ]
     },
     "execution_count": 36,
     "metadata": {},
     "output_type": "execute_result"
    }
   ],
   "source": [
    "diff(12*x**3, x, 1)"
   ]
  },
  {
   "cell_type": "code",
   "execution_count": 38,
   "metadata": {},
   "outputs": [
    {
     "data": {
      "image/png": "[encoded data removed]",
      "text/latex": [
       "$$72 x$$"
      ],
      "text/plain": [
       "72⋅x"
      ]
     },
     "execution_count": 38,
     "metadata": {},
     "output_type": "execute_result"
    }
   ],
   "source": [
    "diff(36*x**2, x, 1)"
   ]
  },
  {
   "cell_type": "code",
   "execution_count": 39,
   "metadata": {},
   "outputs": [
    {
     "data": {
      "image/png": "[encoded data removed]",
      "text/latex": [
       "$$72$$"
      ],
      "text/plain": [
       "72"
      ]
     },
     "execution_count": 39,
     "metadata": {},
     "output_type": "execute_result"
    }
   ],
   "source": [
    "diff(36*x**2, x, 2)"
   ]
  },
  {
   "cell_type": "markdown",
   "metadata": {},
   "source": [
    "# loops and control statements"
   ]
  },
  {
   "cell_type": "code",
   "execution_count": 40,
   "metadata": {},
   "outputs": [
    {
     "name": "stdout",
     "output_type": "stream",
     "text": [
      "Hello Datalab\n",
      "Hello Datalab\n",
      "Hello Datalab\n"
     ]
    }
   ],
   "source": [
    "#print Hello Datalab 3 Times\n",
    "count = 0\n",
    "while (count < 3):\n",
    "    count = count+1\n",
    "    print(\"Hello Datalab\")"
   ]
  },
  {
   "cell_type": "code",
   "execution_count": 42,
   "metadata": {},
   "outputs": [
    {
     "name": "stdout",
     "output_type": "stream",
     "text": [
      "List Iteration\n",
      "This\n",
      "is\n",
      "victor\n"
     ]
    }
   ],
   "source": [
    "#iterating over a list\n",
    "print(\"List Iteration\")\n",
    "l = [\"This\", \"is\", \"victor\"]\n",
    "for i in l:\n",
    "    print(i)"
   ]
  },
  {
   "cell_type": "code",
   "execution_count": 43,
   "metadata": {},
   "outputs": [
    {
     "name": "stdout",
     "output_type": "stream",
     "text": [
      "\n",
      "Tuple Iteration\n",
      "This\n",
      "is\n",
      "victor\n"
     ]
    }
   ],
   "source": [
    "#iterating over tuple(immutable)\n",
    "print(\"\\nTuple Iteration\")\n",
    "t = (\"This\", \"is\", \"victor\")\n",
    "for i in t:\n",
    "    print(i)"
   ]
  },
  {
   "cell_type": "code",
   "execution_count": 44,
   "metadata": {},
   "outputs": [
    {
     "name": "stdout",
     "output_type": "stream",
     "text": [
      "\n",
      "String Iteration\n",
      "v\n",
      "i\n",
      "c\n",
      "t\n",
      "o\n",
      "r\n"
     ]
    }
   ],
   "source": [
    "#iterating over a string\n",
    "print(\"\\nString Iteration\")\n",
    "s = \"victor\"\n",
    "for i in s:\n",
    "    print(i)"
   ]
  },
  {
   "cell_type": "code",
   "execution_count": 45,
   "metadata": {},
   "outputs": [
    {
     "name": "stdout",
     "output_type": "stream",
     "text": [
      "Dictionary Iteration\n",
      "xyz 123\n",
      "abc 345\n"
     ]
    }
   ],
   "source": [
    "#iteration over dictionary\n",
    "print(\"Dictionary Iteration\")\n",
    "d = dict()\n",
    "d['xyz'] = 123\n",
    "d['abc'] = 345\n",
    "for i in d :\n",
    "    print(\"%s %d\" %(i, d[i])) #%s is a string holder & %d is a number holder"
   ]
  },
  {
   "cell_type": "markdown",
   "metadata": {},
   "source": [
    "# Nested loops #using one loop inside another"
   ]
  },
  {
   "cell_type": "code",
   "execution_count": 51,
   "metadata": {},
   "outputs": [
    {
     "name": "stdout",
     "output_type": "stream",
     "text": [
      "1 \n",
      "2 2 \n",
      "3 3 3 \n",
      "4 4 4 4 \n",
      "5 5 5 5 5 \n"
     ]
    }
   ],
   "source": [
    "from __future__ import print_function\n",
    "for i in range(1, 6):\n",
    "    for j in range(i):\n",
    "        print(i, end=' ')\n",
    "    print()       "
   ]
  },
  {
   "cell_type": "markdown",
   "metadata": {},
   "source": [
    "# loop control statements"
   ]
  },
  {
   "cell_type": "code",
   "execution_count": 53,
   "metadata": {},
   "outputs": [
    {
     "name": "stdout",
     "output_type": "stream",
     "text": [
      "Current Letter : i\n",
      "Current Letter : n\n",
      "Current Letter : t\n",
      "Current Letter : r\n",
      "Current Letter : n\n",
      "Current Letter : f\n",
      "Current Letter : o\n",
      "Current Letter : r\n",
      "Current Letter : p\n",
      "Current Letter : y\n",
      "Current Letter : t\n",
      "Current Letter : h\n",
      "Current Letter : o\n",
      "Current Letter : n\n"
     ]
    }
   ],
   "source": [
    "#prints all letters exceptn'e' and 's'\n",
    "for letter in 'internforpython':\n",
    "    if letter == 'e' or letter == 's':\n",
    "        continue\n",
    "    print ('Current Letter :', letter)\n",
    "\n"
   ]
  },
  {
   "cell_type": "markdown",
   "metadata": {},
   "source": [
    "# BREAK STATEMENT"
   ]
  },
  {
   "cell_type": "code",
   "execution_count": 55,
   "metadata": {},
   "outputs": [
    {
     "name": "stdout",
     "output_type": "stream",
     "text": [
      "Current Letter : s\n"
     ]
    }
   ],
   "source": [
    "#it brings control out of the loop\n",
    "for letter in 'internsforpython':\n",
    "#break the loop as soon as it sees 's' or 'f'\n",
    "   if letter == 's' or letter =='f':\n",
    "    break\n",
    "print ('Current Letter :', letter)    "
   ]
  },
  {
   "cell_type": "code",
   "execution_count": 56,
   "metadata": {},
   "outputs": [
    {
     "name": "stdout",
     "output_type": "stream",
     "text": [
      "Last Letter : s\n"
     ]
    }
   ],
   "source": [
    "#Pass Statement (we use it to write empty loops. Pass is also used for empty control statement, function and classes.)\n",
    "\n",
    "for letter in 'pythonclass':\n",
    "    pass\n",
    "print('Last Letter :', letter)"
   ]
  },
  {
   "cell_type": "code",
   "execution_count": 58,
   "metadata": {},
   "outputs": [
    {
     "name": "stdout",
     "output_type": "stream",
     "text": [
      "0123456789\n",
      "10 20 30 40 \n",
      "Sum of first 10 natural number : 45\n"
     ]
    }
   ],
   "source": [
    "#Python program to show ransge basics\n",
    "#printing a number\n",
    "for i in range(10):\n",
    "    print(i, end =\"\")\n",
    "print()    \n",
    "\n",
    "#using range for iteration\n",
    "l= [10, 20, 30, 40]\n",
    "for i in range(len(l)):\n",
    "    print(l[i], end =\" \")\n",
    "print()  \n",
    "\n",
    "#performing sum of natural number\n",
    "sum = 0\n",
    "for i in range(1, 10):\n",
    "    sum = sum + i\n",
    "print(\"Sum of first 10 natural number :\", sum)    "
   ]
  },
  {
   "cell_type": "markdown",
   "metadata": {},
   "source": [
    "# for else loop"
   ]
  },
  {
   "cell_type": "code",
   "execution_count": 59,
   "metadata": {},
   "outputs": [
    {
     "name": "stdout",
     "output_type": "stream",
     "text": [
      "1\n",
      "2\n",
      "3\n",
      "No Break\n",
      "\n",
      "1\n"
     ]
    }
   ],
   "source": [
    "#python program to demonstrate for else loop\n",
    "for i in range (1, 4):\n",
    "    print(i)\n",
    "else: #execute because no break was found\n",
    "    print(\"No Break\\n\")\n",
    "    \n",
    "for i in range (1, 4):\n",
    "    print(i)\n",
    "    break\n",
    "else: #not executed as theres no break\n",
    "    print(\"No Break\")"
   ]
  },
  {
   "cell_type": "code",
   "execution_count": null,
   "metadata": {},
   "outputs": [],
   "source": []
  },
  {
   "cell_type": "code",
   "execution_count": null,
   "metadata": {},
   "outputs": [],
   "source": []
  }
 ],
 "metadata": {
  "kernelspec": {
   "display_name": "Python 3",
   "language": "python",
   "name": "python3"
  },
  "language_info": {
   "codemirror_mode": {
    "name": "ipython",
    "version": 3
   },
   "file_extension": ".py",
   "mimetype": "text/x-python",
   "name": "python",
   "nbconvert_exporter": "python",
   "pygments_lexer": "ipython3",
   "version": "3.7.6"
  }
 },
 "nbformat": 4,
 "nbformat_minor": 2
}
